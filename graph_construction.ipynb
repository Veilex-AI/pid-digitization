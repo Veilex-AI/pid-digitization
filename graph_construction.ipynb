{
 "cells": [
  {
   "cell_type": "code",
   "execution_count": 1,
   "metadata": {},
   "outputs": [],
   "source": [
    "from src.models.bounding_box import BoundingBox\n",
    "from src.models.vertex import Vertex\n",
    "from src.services.data_converter_service import DataConverterService\n",
    "from src.services.image_display_serivce import ImageDisplayService\n",
    "from src.services.line_detection_service import LineDetectionService\n",
    "\n",
    "from config import config\n",
    "\n",
    "\"\"\"\n",
    "    getting a single datapoint from the dataset\n",
    "\"\"\"\n",
    "\n",
    "converter_service = DataConverterService() \n",
    "datapoint = converter_service.load_single_datapoint(str(4))"
   ]
  },
  {
   "cell_type": "code",
   "execution_count": null,
   "metadata": {},
   "outputs": [],
   "source": [
    "from src.services.predict_symbols_service import PredictSymbolsService\n",
    "from src.models.symbol import Symbol\n",
    "from src.utils.convert_points_to_bounding_box import convert_points_to_bounding_box\n",
    "\n",
    "\n",
    "\"\"\"\n",
    "    predict the symbol bounding boxes using the prediction service.\n",
    "\"\"\"\n",
    "\n",
    "predicted_symbol_results = []\n",
    "\n",
    "predict_service = PredictSymbolsService(\n",
    "    image_path=datapoint.image_path\n",
    ")\n",
    "\n",
    "prediction_results = predict_service.predict_bounding_boxes()\n",
    "\n",
    "for index, pr in enumerate(prediction_results):\n",
    "    symbol = Symbol(\n",
    "        name=f\"s-{str(index)}\",\n",
    "        label=pr[1],\n",
    "        pointSrc=Vertex(x=pr[0][0], y=pr[0][1]),\n",
    "        pointDest=Vertex(x=pr[0][2], y=pr[0][3])\n",
    "    )\n",
    "\n",
    "    predicted_symbol_results.append(symbol)"
   ]
  },
  {
   "cell_type": "code",
   "execution_count": null,
   "metadata": {},
   "outputs": [],
   "source": [
    "display_service = ImageDisplayService(\n",
    "    datapoint.image_path,\n",
    "    predicted_symbol_results\n",
    ")\n",
    "display_service.display_image_with_bbox(color='red', dpi=100)"
   ]
  },
  {
   "cell_type": "code",
   "execution_count": 4,
   "metadata": {},
   "outputs": [],
   "source": [
    "from src.utils.calculate_distance_between_rectangles import calculate_distance_between_rectangles\n",
    "\n",
    "\"\"\"\n",
    "    remove redundent bounding boxes.\n",
    "\"\"\"\n",
    "\n",
    "index_to_delete = []\n",
    "\n",
    "for index_1, s1 in enumerate(predicted_symbol_results):\n",
    "    for index_2, s2 in enumerate(predicted_symbol_results[index_1 + 1:]):\n",
    "        if(\n",
    "            calculate_distance_between_rectangles(\n",
    "                [*s1.pointSrc.get_dimensions(), *s1.pointDest.get_dimensions()], \n",
    "                [*s2.pointSrc.get_dimensions(), *s2.pointDest.get_dimensions()]                \n",
    "            ) < 5\n",
    "        ):\n",
    "            index_to_delete.append(index_1)\n",
    "\n",
    "\n",
    "predicted_symbol_results = [value for i, value in enumerate(predicted_symbol_results) if i not in list(set(index_to_delete))]"
   ]
  },
  {
   "cell_type": "code",
   "execution_count": 5,
   "metadata": {},
   "outputs": [],
   "source": [
    "# line detection and their extension from the datapoint\n",
    "line_detection_service = LineDetectionService(\n",
    "    image_path=datapoint.image_path,\n",
    "    bounding_boxes=[*predicted_symbol_results, *datapoint.words],\n",
    ")\n",
    "\n",
    "line_segments = [convert_points_to_bounding_box(l) for l in line_detection_service.extend_lines(\n",
    "    line_detection_service.detect_line_segments(enable_thining=True)\n",
    ")]\n",
    "\n",
    "for index, l in enumerate(line_segments):\n",
    "    l.name = f\"l-{str(index)}\""
   ]
  },
  {
   "cell_type": "code",
   "execution_count": null,
   "metadata": {},
   "outputs": [],
   "source": [
    "# filter the smaller lines, make them bigger than ususal. Implement them in the line service afterwards.\n",
    "\n",
    "from src.utils.calculate_distance_between_points import calculate_distance_between_points\n",
    "\n",
    "short_line_semgents = list(filter(lambda l: l.name in ['l-0', 'l-10'], line_segments))\n",
    "\n",
    "print(short_line_semgents)\n",
    "[calculate_distance_between_points(s.pointSrc.get_dimensions(), s.pointDest.get_dimensions()) for s in short_line_semgents]"
   ]
  },
  {
   "cell_type": "code",
   "execution_count": null,
   "metadata": {},
   "outputs": [],
   "source": [
    "line_display_service = ImageDisplayService(\n",
    "    datapoint.image_path,\n",
    "    [*line_segments, *predicted_symbol_results]\n",
    ")\n",
    "\n",
    "line_display_service.display_image_with_bbox(color='red', dpi=300)"
   ]
  },
  {
   "cell_type": "code",
   "execution_count": 8,
   "metadata": {},
   "outputs": [],
   "source": [
    "from src.services.graph_construction_service import GraphConstructionService\n",
    "\n",
    "graph_service = GraphConstructionService(predicted_symbol_results, line_segments)\n",
    "graph_service.initialize_graph()\n",
    "graph_service.define_graph_edges()"
   ]
  },
  {
   "cell_type": "code",
   "execution_count": null,
   "metadata": {},
   "outputs": [],
   "source": [
    "service = ImageDisplayService()\n",
    "service.display_graph(graph_service.graph)"
   ]
  },
  {
   "cell_type": "code",
   "execution_count": null,
   "metadata": {},
   "outputs": [],
   "source": [
    "[graph_service.get_line_cycle_list(degree=4), graph_service.get_line_cycle_list(degree=3)]"
   ]
  },
  {
   "cell_type": "code",
   "execution_count": 11,
   "metadata": {},
   "outputs": [],
   "source": [
    "graph_service.reduce_line_cycles()\n",
    "graph_service.set_largest_graph_connected_nodes()"
   ]
  },
  {
   "cell_type": "code",
   "execution_count": null,
   "metadata": {},
   "outputs": [],
   "source": [
    "service.display_graph(graph_service.graph)"
   ]
  },
  {
   "cell_type": "code",
   "execution_count": 13,
   "metadata": {},
   "outputs": [],
   "source": [
    "for i in range(100):\n",
    "    graph_service.remove_single_connection_line_nodes()"
   ]
  },
  {
   "cell_type": "code",
   "execution_count": null,
   "metadata": {},
   "outputs": [],
   "source": [
    "service.display_graph(graph_service.graph)"
   ]
  },
  {
   "cell_type": "code",
   "execution_count": null,
   "metadata": {},
   "outputs": [],
   "source": [
    "# this part is where I will do the graph contractions.\n",
    "from typing import List\n",
    "import networkx as nx\n",
    "from src.enums.graph_node_type import GraphNodeType\n",
    "\n",
    "def uniqify_paths(G, paths):\n",
    "    unique_paths = []\n",
    "    seen = []\n",
    "    \n",
    "    for path in paths:\n",
    "        subgraph = G.subgraph(path)\n",
    "        \n",
    "        # Check if it is isomorphic to any previously seen subgraph\n",
    "        if not any(nx.is_isomorphic(subgraph, G.subgraph(seen_path)) for seen_path in seen):\n",
    "            seen.append(path)\n",
    "            unique_paths.append(path)\n",
    "    \n",
    "    return unique_paths\n",
    "\n",
    "\n",
    "def line_node_to_edges(graph):\n",
    "    # get all the symbol nodes\n",
    "    symbol_and_connector_nodes = [node for node, data in graph_service.graph.nodes(data=True) if data['type'] in [GraphNodeType.connector, GraphNodeType.symbol]]\n",
    "    print('symbol and connector nodes', symbol_and_connector_nodes)\n",
    "    node_to_node_paths = []\n",
    "    for u in symbol_and_connector_nodes:\n",
    "        for v in symbol_and_connector_nodes:\n",
    "            if u != v:\n",
    "                # push only those links to array that have symbols at boths ends.\n",
    "                for path in list(nx.all_simple_paths(graph, source=u, target=v)):\n",
    "                    all_lines = path[1: -1]\n",
    "                    if len(all_lines) > 1 and all(graph.nodes[l]['type'] == GraphNodeType.line for l in all_lines):\n",
    "                        valid_path = True\n",
    "                        for i in range(1, len(path) - 1):\n",
    "                            neighbors = list(graph.neighbors(path[i]))\n",
    "                            if not all(neighbor in [path[i-1], path[i+1]] for neighbor in neighbors):\n",
    "                                valid_path = False\n",
    "                                break\n",
    "                        if valid_path:\n",
    "                            node_to_node_paths.append(path)\n",
    "\n",
    "    node_to_node_paths = uniqify_paths(graph, node_to_node_paths)\n",
    "\n",
    "    for path in node_to_node_paths:\n",
    "        last_node = path[len(path) - 1]\n",
    "        first_line = path[1]\n",
    "        graph.add_edge(first_line, last_node)\n",
    "\n",
    "        for node in path[2:len(path) - 1]:\n",
    "            if graph.has_node(node): graph.remove_node(node)\n",
    "\n",
    "for i in range(10):\n",
    "    line_node_to_edges(graph_service.graph)"
   ]
  },
  {
   "cell_type": "code",
   "execution_count": null,
   "metadata": {},
   "outputs": [],
   "source": [
    "service.display_graph(graph_service.graph)"
   ]
  },
  {
   "cell_type": "code",
   "execution_count": null,
   "metadata": {},
   "outputs": [],
   "source": []
  },
  {
   "cell_type": "code",
   "execution_count": null,
   "metadata": {},
   "outputs": [],
   "source": []
  },
  {
   "cell_type": "code",
   "execution_count": null,
   "metadata": {},
   "outputs": [],
   "source": []
  },
  {
   "cell_type": "code",
   "execution_count": null,
   "metadata": {},
   "outputs": [],
   "source": [
    "import networkx as nx\n",
    "\n",
    "\n",
    "# this can be used for utility purposes.\n",
    "\n",
    "def subgraph_between_nodes(G, start_node, end_node):\n",
    "    # Find a simple path between the two nodes\n",
    "    paths = list(nx.all_simple_paths(G, source=start_node, target=end_node))\n",
    "    \n",
    "    # Create a subgraph from the first valid path\n",
    "    if paths:\n",
    "        path = paths[0]\n",
    "        subgraph = G.subgraph(path).copy()\n",
    "        \n",
    "        # Remove any edges that create duplicate connections\n",
    "        for node in path:\n",
    "            neighbors = list(subgraph.neighbors(node))\n",
    "            # Only keep the neighbor that is part of the path\n",
    "            for neighbor in neighbors:\n",
    "                if neighbor not in path:\n",
    "                    subgraph.remove_edge(node, neighbor)\n",
    "                    \n",
    "        return subgraph\n",
    "    else:\n",
    "        return None\n",
    "\n",
    "\n",
    "service.display_graph(\n",
    "    subgraph_between_nodes(graph_service.graph, \"l-16\", \"l-6\")\n",
    ")"
   ]
  }
 ],
 "metadata": {
  "kernelspec": {
   "display_name": "env",
   "language": "python",
   "name": "python3"
  },
  "language_info": {
   "codemirror_mode": {
    "name": "ipython",
    "version": 3
   },
   "file_extension": ".py",
   "mimetype": "text/x-python",
   "name": "python",
   "nbconvert_exporter": "python",
   "pygments_lexer": "ipython3",
   "version": "3.12.8"
  }
 },
 "nbformat": 4,
 "nbformat_minor": 2
}
