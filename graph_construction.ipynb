{
 "cells": [
  {
   "cell_type": "code",
   "execution_count": null,
   "metadata": {},
   "outputs": [],
   "source": [
    "from src.models import BoundingBox, Vertex\n",
    "from src.services import DataConverterService, ImageDisplayService, LineDetectionService\n",
    "\n",
    "from config import config\n",
    "\n",
    "\"\"\"\n",
    "    getting a single datapoint from the dataset \n",
    "\"\"\"\n",
    "\n",
    "# use this when you want to load an image from the dataset whose path come frome the config files.\n",
    "# converter_service = DataConverterService() \n",
    "# datapoint = converter_service.load_single_datapoint(str(0))"
   ]
  },
  {
   "cell_type": "code",
   "execution_count": null,
   "metadata": {},
   "outputs": [],
   "source": [
    "from src.services.predict_symbols_service import PredictSymbolsService\n",
    "from src.models.symbol import Symbol\n",
    "from src.utils.convert_points_to_bounding_box import convert_points_to_bounding_box\n",
    "\n",
    "\n",
    "\"\"\"\n",
    "    predict the symbol bounding boxes using the prediction service.\n",
    "\"\"\"\n",
    "\n",
    "image_path_to_test = \"D:/Veilex/_test/crop-data/_images/19.jpg\"\n",
    "\n",
    "predicted_symbol_results = []\n",
    "\n",
    "predict_service = PredictSymbolsService(\n",
    "    image_path=image_path_to_test,\n",
    "    model_path=\"./yolo-model-pid.pt\"\n",
    ")\n",
    "\n",
    "prediction_results = predict_service.predict_bounding_boxes(shifting=False)\n",
    "\n",
    "for index, pr in enumerate(prediction_results):\n",
    "    symbol = Symbol(\n",
    "        name=f\"s-{str(index)}\",\n",
    "        label=pr[1],\n",
    "        pointSrc=Vertex(x=pr[0][0], y=pr[0][1]),\n",
    "        pointDest=Vertex(x=pr[0][2], y=pr[0][3])\n",
    "    )\n",
    "\n",
    "    predicted_symbol_results.append(symbol)"
   ]
  },
  {
   "cell_type": "code",
   "execution_count": null,
   "metadata": {},
   "outputs": [],
   "source": []
  },
  {
   "cell_type": "code",
   "execution_count": null,
   "metadata": {},
   "outputs": [],
   "source": [
    "\n",
    "\n",
    "\"\"\"\n",
    "    predict the word bounding boxes using the azure document inteligence service.\n",
    "\"\"\"\n",
    "\n",
    "from src.services.predict_word_service import PredictWordService\n",
    "\n",
    "word_bboxes = []\n",
    "predict_word_service = PredictWordService(\n",
    "    image_path=image_path_to_test\n",
    ")\n",
    "\n",
    "result = predict_word_service.predicit_bounding_boxes()\n",
    "\n",
    "for index, item in enumerate(result): \n",
    "    word_bboxes.append(\n",
    "        BoundingBox(\n",
    "            name=f\"w-{index}\",\n",
    "            pointSrc=Vertex(x=item[0],y=item[1]),\n",
    "            pointDest=Vertex(x=item[2],y=item[3])\n",
    "        )\n",
    "    )"
   ]
  },
  {
   "cell_type": "code",
   "execution_count": null,
   "metadata": {},
   "outputs": [],
   "source": [
    "display_service = ImageDisplayService(\n",
    "    image_path_to_test,\n",
    "    [*predicted_symbol_results, *word_bboxes]\n",
    ")\n",
    "display_service.display_image_with_bbox(color='red', dpi=200, show_text=False)"
   ]
  },
  {
   "cell_type": "code",
   "execution_count": null,
   "metadata": {},
   "outputs": [],
   "source": [
    "from src.utils.calculate_distance_between_rectangles import calculate_distance_between_rectangles\n",
    "\n",
    "\"\"\"\n",
    "    remove redundent bounding boxes.\n",
    "\"\"\"\n",
    "\n",
    "index_to_delete = []\n",
    "\n",
    "for index_1, s1 in enumerate(predicted_symbol_results):\n",
    "    for index_2, s2 in enumerate(predicted_symbol_results[index_1 + 1:]):\n",
    "        if(\n",
    "            calculate_distance_between_rectangles(\n",
    "                [*s1.pointSrc.get_dimensions(), *s1.pointDest.get_dimensions()], \n",
    "                [*s2.pointSrc.get_dimensions(), *s2.pointDest.get_dimensions()]                \n",
    "            ) < 5\n",
    "        ):\n",
    "            index_to_delete.append(index_1)\n",
    "\n",
    "\n",
    "predicted_symbol_results = [value for i, value in enumerate(predicted_symbol_results) if i not in list(set(index_to_delete))]\n",
    "\n",
    "predicted_symbol_results"
   ]
  },
  {
   "cell_type": "code",
   "execution_count": null,
   "metadata": {},
   "outputs": [],
   "source": [
    "# line detection and their extension from the datapoint\n",
    "line_detection_service = LineDetectionService(\n",
    "    image_path=image_path_to_test,\n",
    "    bounding_boxes=[*predicted_symbol_results, *word_bboxes],\n",
    ")\n",
    "\n",
    "def get_lines(merge=True):\n",
    "    if not merge:\n",
    "        return [convert_points_to_bounding_box(l) for l in line_detection_service.extend_lines(\n",
    "            line_detection_service.detect_line_segments(enable_thining=True)      \n",
    "        )]\n",
    "    else:\n",
    "        return [convert_points_to_bounding_box(l) for l in \n",
    "            line_detection_service.merge_lines(\n",
    "                line_segments = line_detection_service.extend_lines(\n",
    "                    line_detection_service.detect_line_segments(enable_thining=True)       \n",
    "                )\n",
    "            )\n",
    "        ]\n",
    "\n",
    "line_segments = get_lines(True)\n",
    "\n",
    "for index, l in enumerate(line_segments):\n",
    "    l.name = f\"l-{str(index)}\"\n",
    "\n",
    "line_segments"
   ]
  },
  {
   "cell_type": "code",
   "execution_count": null,
   "metadata": {},
   "outputs": [],
   "source": [
    "# filter the smaller lines, make them bigger than ususal. Implement them in the line service afterwards.\n",
    "\n",
    "# from src.utils.calculate_distance_between_points import calculate_distance_between_points\n",
    "\n",
    "# short_line_semgents = list(filter(lambda l: l.name in ['l-0', 'l-10'], line_segments))\n",
    "\n",
    "# print(short_line_semgents)\n",
    "# [calculate_distance_between_points(s.pointSrc.get_dimensions(), s.pointDest.get_dimensions()) for s in short_line_semgents]"
   ]
  },
  {
   "cell_type": "code",
   "execution_count": null,
   "metadata": {},
   "outputs": [],
   "source": [
    "# *predicted_symbol_results\n",
    "\n",
    "line_display_service = ImageDisplayService(\n",
    "    image_path_to_test,\n",
    "    [*line_segments, *predicted_symbol_results, *word_bboxes]\n",
    ")\n",
    "\n",
    "line_display_service.display_image_with_bbox(color='red', dpi=300, show_text=False)"
   ]
  },
  {
   "cell_type": "code",
   "execution_count": null,
   "metadata": {},
   "outputs": [],
   "source": [
    "from src.services.graph_construction_service import GraphConstructionService\n",
    "\n",
    "graph_service = GraphConstructionService(predicted_symbol_results, line_segments)\n",
    "graph_service.initialize_graph()\n",
    "graph_service.define_graph_edges()"
   ]
  },
  {
   "cell_type": "code",
   "execution_count": null,
   "metadata": {},
   "outputs": [],
   "source": [
    "service = ImageDisplayService()\n",
    "service.display_graph(graph_service.graph)"
   ]
  },
  {
   "cell_type": "code",
   "execution_count": null,
   "metadata": {},
   "outputs": [],
   "source": [
    "graph_service.reduce_line_cycles()\n",
    "# graph_service.set_largest_graph_connected_nodes()"
   ]
  },
  {
   "cell_type": "code",
   "execution_count": null,
   "metadata": {},
   "outputs": [],
   "source": [
    "for i in range(100):\n",
    "    graph_service.remove_zero_or_single_connection_line_nodes()"
   ]
  },
  {
   "cell_type": "code",
   "execution_count": null,
   "metadata": {},
   "outputs": [],
   "source": [
    "# since i have worked on merging the lines, I might not use this.\n",
    "# graph_service.prune_multiple_path_nodes(graph_service.find_valid_paths())"
   ]
  },
  {
   "cell_type": "code",
   "execution_count": null,
   "metadata": {},
   "outputs": [],
   "source": [
    "service.display_graph(graph_service.graph)"
   ]
  },
  {
   "cell_type": "code",
   "execution_count": null,
   "metadata": {},
   "outputs": [],
   "source": []
  },
  {
   "cell_type": "code",
   "execution_count": null,
   "metadata": {},
   "outputs": [],
   "source": []
  },
  {
   "cell_type": "code",
   "execution_count": null,
   "metadata": {},
   "outputs": [],
   "source": []
  },
  {
   "cell_type": "code",
   "execution_count": null,
   "metadata": {},
   "outputs": [],
   "source": [
    "# this utility might not be needed anymore.\n",
    "\n",
    "import networkx as nx\n",
    "# this can be used for utility purposes.\n",
    "\n",
    "def subgraph_between_nodes(G, start_node, end_node):\n",
    "    # Find a simple path between the two nodes\n",
    "    paths = list(nx.all_simple_paths(G, source=start_node, target=end_node))\n",
    "    \n",
    "    # Create a subgraph from the first valid path\n",
    "    if paths:\n",
    "        path = paths[0]\n",
    "        subgraph = G.subgraph(path).copy()\n",
    "        \n",
    "        # Remove any edges that create duplicate connections\n",
    "        for node in path:\n",
    "            neighbors = list(subgraph.neighbors(node))\n",
    "            # Only keep the neighbor that is part of the path\n",
    "            for neighbor in neighbors:\n",
    "                if neighbor not in path:\n",
    "                    subgraph.remove_edge(node, neighbor)\n",
    "                    \n",
    "        return subgraph\n",
    "    else:\n",
    "        return None\n",
    "\n",
    "\n",
    "service.display_graph(\n",
    "    subgraph_between_nodes(graph_service.graph, \"l-16\", \"l-6\")\n",
    ")"
   ]
  }
 ],
 "metadata": {
  "kernelspec": {
   "display_name": "env",
   "language": "python",
   "name": "python3"
  },
  "language_info": {
   "codemirror_mode": {
    "name": "ipython",
    "version": 3
   },
   "file_extension": ".py",
   "mimetype": "text/x-python",
   "name": "python",
   "nbconvert_exporter": "python",
   "pygments_lexer": "ipython3",
   "version": "3.12.9"
  }
 },
 "nbformat": 4,
 "nbformat_minor": 2
}
